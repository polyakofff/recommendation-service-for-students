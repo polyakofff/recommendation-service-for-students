{
 "cells": [
  {
   "cell_type": "code",
   "execution_count": null,
   "metadata": {
    "collapsed": true
   },
   "outputs": [],
   "source": [
    "import numpy as np\n",
    "import pandas as pd\n",
    "import pickle\n",
    "\n",
    "\n",
    "df = pd.read_csv('test.csv')\n",
    "print(df)\n",
    "\n",
    "\n",
    "class Model():\n",
    "\n",
    "    def fit(self, x):\n",
    "        self.bound = 3\n",
    "\n",
    "    def predict(self, x):\n",
    "        fails = np.nansum(x < 4, axis=1)\n",
    "        return fails >= self.bound\n",
    "\n",
    "model = Model()\n",
    "x = df.drop(['id', 'module'], axis=1).to_numpy()\n",
    "print(x)\n",
    "\n",
    "model.fit(x)\n",
    "print(model.predict(x))\n",
    "\n",
    "with open('model.pkl', 'wb') as f:\n",
    "    pickle.dump(model, f, protocol=pickle.HIGHEST_PROTOCOL)\n"
   ]
  },
  {
   "cell_type": "code",
   "execution_count": 14,
   "outputs": [
    {
     "name": "stdout",
     "output_type": "stream",
     "text": [
      "   ID                     Факультет Образовательная программа  \\\n",
      "0   1  факультет экономических наук      Прикладная экономика   \n",
      "1   2  факультет экономических наук     Финансовый инжиниринг   \n",
      "\n",
      "  Уровень обучения  Курс  Модуль  Предмет 1  Предмет 2  Предмет 3  \n",
      "0     Магистратура     1       1        8.0        NaN          6  \n",
      "1     Магистратура     1       1        NaN        0.0          4  \n",
      "['Предмет 1' 'Предмет 2' 'Предмет 3']\n",
      "Прикладная экономика\n",
      "Финансовый инжиниринг\n"
     ]
    }
   ],
   "source": [
    "import pandas as pd\n",
    "\n",
    "df = pd.read_csv('fen_mag_data.csv')\n",
    "print(df)\n",
    "\n",
    "subjects = df.columns.drop(['ID', 'Факультет', 'Образовательная программа', 'Уровень обучения', 'Курс', 'Модуль'])\n",
    "print(subjects.values)\n",
    "\n",
    "for i, row in df.iterrows():\n",
    "    print(row['Образовательная программа'])\n"
   ],
   "metadata": {
    "collapsed": false,
    "ExecuteTime": {
     "end_time": "2023-09-11T12:26:52.910739Z",
     "start_time": "2023-09-11T12:26:52.897793Z"
    }
   }
  },
  {
   "cell_type": "code",
   "execution_count": 21,
   "outputs": [
    {
     "name": "stdout",
     "output_type": "stream",
     "text": [
      "     a    b    c\n",
      "0  1.0  NaN  3.0\n",
      "1  NaN  NaN  NaN\n",
      "2  NaN  8.0  9.0\n",
      "1\n",
      "[1]\n",
      "2\n",
      "[1, 2]\n",
      "3\n",
      "[1, 2, 3]\n"
     ]
    }
   ],
   "source": [
    "data = [{'a': 1, 'c': 3}, {}, {'b': 8, 'c': 9}]\n",
    "df = pd.DataFrame(data, columns=['a', 'b', 'c'])\n",
    "print(df)\n",
    "\n",
    "m = {2: [1, 2], 1: [1], 3: [1, 2, 3]}\n",
    "for k in sorted(m.keys()):\n",
    "    print(k)\n",
    "    print(m[k])"
   ],
   "metadata": {
    "collapsed": false,
    "ExecuteTime": {
     "end_time": "2023-09-14T22:56:29.686359Z",
     "start_time": "2023-09-14T22:56:29.676801Z"
    }
   }
  }
 ],
 "metadata": {
  "kernelspec": {
   "display_name": "Python 3",
   "language": "python",
   "name": "python3"
  },
  "language_info": {
   "codemirror_mode": {
    "name": "ipython",
    "version": 2
   },
   "file_extension": ".py",
   "mimetype": "text/x-python",
   "name": "python",
   "nbconvert_exporter": "python",
   "pygments_lexer": "ipython2",
   "version": "2.7.6"
  }
 },
 "nbformat": 4,
 "nbformat_minor": 0
}
